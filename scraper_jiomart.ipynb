{
 "cells": [
  {
   "cell_type": "code",
   "execution_count": null,
   "metadata": {},
   "outputs": [],
   "source": [
    "from bs4 import BeautifulSoup as bs4\n",
    "import requests\n",
    "import pandas as pd\n",
    "\n",
    "pages=[]\n",
    "prices=[]\n",
    "products=[]\n",
    "\n",
    "\n",
    "pages_to_scrape=5         #number of pages to scrape\n",
    "\n",
    "for i in range(1,pages_to_scrape+1):\n",
    "    url = ('https://www.jiomart.com/c/bestdeals/main-holi-banner/5051/page/{}').format(i)      #adds +1 to the page count\n",
    "    pages.append(url)\n",
    "for item in pages:\n",
    "    page = requests.get(item)\n",
    "    soup = bs4(page.text, 'html.parser')\n",
    "\n",
    "    for product in soup.findAll('span', class_='clsgetname'):\n",
    "        name = product.getText()\n",
    "        products.append(name)\n",
    "\n",
    "    for j in soup.findAll('span', id='final_price'):\n",
    "        price = j.getText()\n",
    "        prices.append(price)\n",
    "    \n",
    "\n",
    "\n",
    "data={'Product': products, 'Price': prices}\n",
    "df=pd.DataFrame(data=data)\n",
    "df.to_excel(\"jiomart.xlsx\", index=False)\n"
   ]
  }
 ],
 "metadata": {
  "language_info": {
   "name": "python"
  },
  "orig_nbformat": 4
 },
 "nbformat": 4,
 "nbformat_minor": 2
}
